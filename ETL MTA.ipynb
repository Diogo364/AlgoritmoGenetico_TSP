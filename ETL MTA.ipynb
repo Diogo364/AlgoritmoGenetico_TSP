{
 "cells": [
  {
   "cell_type": "code",
   "execution_count": 1,
   "metadata": {},
   "outputs": [],
   "source": [
    "from selenium import webdriver\n",
    "import requests\n",
    "import re\n",
    "from collections import defaultdict \n",
    "import json\n",
    "import pprint as pp"
   ]
  },
  {
   "cell_type": "code",
   "execution_count": 2,
   "metadata": {},
   "outputs": [],
   "source": [
    "mtabasicurl = 'http://web.mta.info'\n",
    "regex = r'\\n\\t\\t\\t<a href=\"(.*?\\.htm)'"
   ]
  },
  {
   "cell_type": "code",
   "execution_count": 3,
   "metadata": {},
   "outputs": [],
   "source": [
    "requisicao = requests.get('http://web.mta.info/maps/submap.html')\n",
    "requisicao = requisicao.text\n",
    "url = re.findall(regex, requisicao)"
   ]
  },
  {
   "cell_type": "code",
   "execution_count": 4,
   "metadata": {
    "scrolled": true
   },
   "outputs": [],
   "source": [
    "firefox = webdriver.Firefox(executable_path='/Users/diogotelheirodonascimento/Documents/Projects/geckodriver')"
   ]
  },
  {
   "cell_type": "code",
   "execution_count": 5,
   "metadata": {
    "scrolled": true
   },
   "outputs": [],
   "source": [
    "lines = defaultdict(list)\n",
    "sublist = list()\n",
    "for val in url:\n",
    "    firefox.get(mtabasicurl+val)\n",
    "    etl = firefox.find_elements_by_class_name('emphasized')\n",
    "    for estacoes in etl:\n",
    "        if (estacoes.text.isupper() or estacoes.text == 'Subway\\nTransfers'):\n",
    "            continue\n",
    "        else:\n",
    "            lines[val].append(estacoes.text)\n",
    "    sublist = list()"
   ]
  },
  {
   "cell_type": "code",
   "execution_count": 6,
   "metadata": {},
   "outputs": [],
   "source": [
    "with open('dicionario.txt', 'w') as dicionario:\n",
    "    pp.pprint(lines, stream=dicionario)"
   ]
  }
 ],
 "metadata": {
  "kernelspec": {
   "display_name": "Python 3",
   "language": "python",
   "name": "python3"
  },
  "language_info": {
   "codemirror_mode": {
    "name": "ipython",
    "version": 3
   },
   "file_extension": ".py",
   "mimetype": "text/x-python",
   "name": "python",
   "nbconvert_exporter": "python",
   "pygments_lexer": "ipython3",
   "version": "3.6.5"
  }
 },
 "nbformat": 4,
 "nbformat_minor": 2
}
